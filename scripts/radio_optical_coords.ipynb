{
 "cells": [
  {
   "cell_type": "code",
   "execution_count": 1,
   "id": "6c2010c3-ddd0-4da7-bf04-22544b4a1081",
   "metadata": {
    "tags": []
   },
   "outputs": [],
   "source": [
    "from astropy import units as u\n",
    "import matplotlib.pyplot as plt\n",
    "from astropy.io import fits\n",
    "from astropy.wcs import WCS\n",
    "from astropy.coordinates import SkyCoord\n",
    "from astropy.nddata import Cutout2D\n",
    "import numpy as np\n",
    "from reproject import reproject_interp\n",
    "from reproject import reproject_exact\n",
    "from regions import read_ds9\n",
    "import copy\n",
    "from photutils import SkyCircularAperture\n",
    "import time\n",
    "import pandas as pd\n",
    "\n",
    "def import_coords(regionfile, ra_add = 0*u.arcsec, dec_add = 0*u.arcsec):\n",
    "    regions = read_ds9(regionfile)\n",
    "    coords = []\n",
    "    for region in regions:\n",
    "        coord = region.center\n",
    "        coord = SkyCoord(ra=coord.ra+ra_add, dec=coord.dec+dec_add, frame='icrs')\n",
    "        coords.append(coord)\n",
    "\n",
    "    return coords"
   ]
  },
  {
   "cell_type": "code",
   "execution_count": 2,
   "id": "86fd7d97-f989-45e1-abcd-1b83c31ee214",
   "metadata": {
    "jupyter": {
     "source_hidden": true
    },
    "tags": []
   },
   "outputs": [],
   "source": [
    "Dir = '/home/heh15/research/Antennae/'\n",
    "picDir = Dir+'pictures/'\n",
    "regionDir = Dir+'regions/'\n",
    "HST_Dir = Dir+'HST/'\n",
    "MUSE_Dir = Dir+'MUSE/'\n",
    "imageDir = Dir+'images/'\n",
    "\n",
    "# data\n",
    "cont_Band3_GMC = Dir + '2018/cont_100GHz/image/'\\\n",
    "                       'ngc4038_band3_cont_12m_7m.fits'\n",
    "cont_Band3_SC = Dir + '2016/Band3/ngc40389overlap_band3_uvrange_robust_2_smooth.fits'\n",
    "cont_Band3_SC_p5 = Dir + '2016/Band3/ngc40389overlap_band3_uvrange_robust_p5_smooth_pbcor.fits'\n",
    "cont_Band3_SC_p5_009 = Dir + '2016/Band3/ngc40389overlap_band3_uvrange_robust_p5_smooth_090_pbcor.fits'\n",
    "cont_Band6_GMC = Dir + '2018/cont_200GHz/image/'\\\n",
    "                       'ngc4038_band6_cont_12m_7m.fits'\n",
    "cont_Band7_SC = Dir + '2016/Band7/ngc40389overlap_band7_range_robust_2_smooth.fits'\n",
    "cont_Band7_SC_p5 = Dir + '2016/Band3/ngc40389overlap_band7_range_robust_p5_smooth_pbcor.fits'"
   ]
  },
  {
   "cell_type": "markdown",
   "id": "b69c7c2c-d559-4367-92c1-10bfa382164e",
   "metadata": {
    "tags": []
   },
   "source": [
    "#### Measure the distance between the peaks"
   ]
  },
  {
   "cell_type": "code",
   "execution_count": 3,
   "id": "9e5d1530-71ee-44e8-8874-c430a98e705b",
   "metadata": {},
   "outputs": [
    {
     "name": "stdout",
     "output_type": "stream",
     "text": [
      "    RA offset  RA err  Dec offset  Dec err\n",
      "1a   0.061312  0.0077      0.1260   0.0079\n",
      "2   -0.095374  0.0059     -0.0504   0.0074\n",
      "5    0.027250  0.0082     -0.1008   0.0069\n",
      "6   -0.078345  0.0130     -0.0576   0.0110\n",
      "7   -0.040876  0.0052     -0.1296   0.0054\n",
      "9    0.068128  0.0087     -0.0792   0.0086\n"
     ]
    }
   ],
   "source": [
    "indexes = ['1a','2','5','6','7','9']\n",
    "# Paschen beta coordinates\n",
    "regionfile_Pb = regionDir + 'source_HST_Pbeta_imfit_contsub.reg'\n",
    "coords_Pb = import_coords(regionfile_Pb)\n",
    "\n",
    "# radio coordinates\n",
    "regionfile_radio = regionDir + 'source_coords_band7_2016.reg'\n",
    "coords_radio = import_coords(regionfile_radio)\n",
    "# remove source 1b\n",
    "SC1b_coord = coords_radio.pop(1)\n",
    "\n",
    "ra_errs = [0.0077, 0.0059, 0.0082, 0.013, 0.0052, 0.0087]\n",
    "dec_errs = [0.0079,0.0074, 0.0069, 0.011, 0.0054, 0.0086]\n",
    "\n",
    "# calculate the offset\n",
    "ras_diff = []; decs_diff = []\n",
    "for i, coord in enumerate(coords_radio):\n",
    "    offset_frame = coords_Pb[i].transform_to(coord.skyoffset_frame())\n",
    "    ras_diff.append(offset_frame.lon.arcsec)\n",
    "    decs_diff.append(offset_frame.lat.arcsec)\n",
    "#    print(round(offset_frame.lon.arcsec,3), round(offset_frame.lat.arcsec,3))\n",
    "offsets_SC = pd.DataFrame({'RA offset':ras_diff, 'RA err':ra_errs,'Dec offset':decs_diff,'Dec err':dec_errs},index=indexes)\n",
    "print(offsets_SC)"
   ]
  },
  {
   "cell_type": "markdown",
   "id": "2fdaa335-d00f-401f-a701-c1d8bd76f3ef",
   "metadata": {},
   "source": [
    "Check the offset but smooth the radio continuum to have the same resolution as the optical data"
   ]
  },
  {
   "cell_type": "code",
   "execution_count": 5,
   "id": "7d1c1509-0650-4cea-aead-fe263b48ac80",
   "metadata": {},
   "outputs": [
    {
     "name": "stdout",
     "output_type": "stream",
     "text": [
      "    RA offset  RA err  Dec offset  Dec err\n",
      "1a   0.057906  0.0079      0.1188   0.0077\n",
      "2   -0.091968  0.0074     -0.0504   0.0059\n",
      "5    0.027250  0.0069     -0.1008   0.0082\n",
      "6   -0.085158  0.0110     -0.0648   0.0130\n",
      "7   -0.047689  0.0054     -0.1332   0.0052\n",
      "9    0.091973  0.0086     -0.0828   0.0087\n"
     ]
    }
   ],
   "source": [
    "indexes = ['1a','2','5','6','7','9']\n",
    "# Paschen beta coordinates\n",
    "regionfile_Pb = regionDir + 'source_HST_Pbeta_imfit_contsub.reg'\n",
    "coords_Pb = import_coords(regionfile_Pb)\n",
    "\n",
    "# radio coordinates\n",
    "regionfile_radio = regionDir + 'source_coords_all_p201.reg'\n",
    "coords_radio = import_coords(regionfile_radio)\n",
    "# remove source 1b\n",
    "SC1b_coord = coords_radio.pop(1)\n",
    "\n",
    "dec_errs = [0.0077, 0.0059, 0.0082, 0.013, 0.0052, 0.0087]\n",
    "ra_errs = [0.0079,0.0074, 0.0069, 0.011, 0.0054, 0.0086]\n",
    "\n",
    "# calculate the offset\n",
    "ras_diff = []; decs_diff = []\n",
    "for i, coord in enumerate(coords_radio):\n",
    "    offset_frame = coords_Pb[i].transform_to(coord.skyoffset_frame())\n",
    "    ras_diff.append(offset_frame.lon.arcsec)\n",
    "    decs_diff.append(offset_frame.lat.arcsec)\n",
    "#    print(round(offset_frame.lon.arcsec,3), round(offset_frame.lat.arcsec,3))\n",
    "offsets_SC_smooth = pd.DataFrame({'RA offset':ras_diff, 'RA err':ra_errs,'Dec offset':decs_diff,'Dec err':dec_errs},index=indexes)\n",
    "print(offsets_SC_smooth)"
   ]
  },
  {
   "cell_type": "markdown",
   "id": "a03e5632-002d-49e8-9991-c6d1506f3335",
   "metadata": {},
   "source": [
    "Compare with coordinates of the GMC resolution image"
   ]
  },
  {
   "cell_type": "code",
   "execution_count": 6,
   "id": "d837e146-9e21-479e-851b-80d60476f131",
   "metadata": {},
   "outputs": [
    {
     "name": "stdout",
     "output_type": "stream",
     "text": [
      "    RA offset    RA err  Dec offset   Dec err\n",
      "1   -0.057906  0.007878      0.0216  0.007684\n",
      "2   -0.030656  0.007470     -0.0792  0.005915\n",
      "3    0.023843  0.004131     -0.2304  0.005454\n",
      "4   -0.017031  0.009943     -0.0180  0.009431\n",
      "5   -0.010219  0.006846     -0.1368  0.008205\n",
      "6   -0.143065  0.006709     -0.1188  0.007294\n",
      "7   -0.064720  0.008856     -0.1368  0.008975\n",
      "9    0.030658  0.008243     -0.1044  0.007973\n",
      "10   0.017032  0.004975     -0.0432  0.005188\n",
      "11  -0.051098  0.002906     -0.1692  0.003607\n",
      "12   0.057912  0.007400     -0.2556  0.008770\n",
      "13   0.095385  0.005011     -0.0216  0.004736\n"
     ]
    }
   ],
   "source": [
    "# set the index\n",
    "indexes = ['1','2','3','4','5','6','7','9','10','11','12','13']\n",
    "\n",
    "# Paschen beta coordinates\n",
    "regionfile_Pb = regionDir + 'source_HST_Pbeta_imfit2.reg'\n",
    "coords_Pb = import_coords(regionfile_Pb)\n",
    "\n",
    "# radio coordinates\n",
    "regionfile_radio = regionDir + 'source_coords_band3.reg'\n",
    "coords_radio = import_coords(regionfile_radio)\n",
    "# remove source 8\n",
    "coords_radio.pop(7)\n",
    "\n",
    "dec_errs = [0.007684410713435382, 0.005915470380388469, 0.005454221952579319, 0.009431044829391229, 0.008204879975318767, 0.007293564577866361, 0.008974695880433937, 0.007973268280766964, 0.005188271021214753, 0.0036068053911640194, 0.008769679377944135, 0.004736365134907537]\n",
    "ra_errs = [0.007877694849043777, 0.007469594126363549, 0.004131016162201678, 0.009943484367174559, 0.0068458913603878305, 0.006708986721045795, 0.008855706983881276, 0.008242617261395446, 0.004975182842886641, 0.0029056677732560523, 0.007399888347744962, 0.005010617893766183]\n",
    "\n",
    "# calculate the offset\n",
    "ras_diff = []; decs_diff = []\n",
    "for i, coord in enumerate(coords_radio):\n",
    "    offset_frame = coords_Pb[i].transform_to(coord.skyoffset_frame())\n",
    "    ras_diff.append(offset_frame.lon.arcsec)\n",
    "    decs_diff.append(offset_frame.lat.arcsec)\n",
    "#    print(round(offset_frame.lon.arcsec,3), round(offset_frame.lat.arcsec,3))\n",
    "offsets_GMC = pd.DataFrame({'RA offset':ras_diff, 'RA err':ra_errs,'Dec offset':decs_diff,'Dec err':dec_errs},index=indexes)\n",
    "print(offsets_GMC)"
   ]
  },
  {
   "cell_type": "markdown",
   "id": "b36bdfef-dd09-46a2-aeda-65fa1557b551",
   "metadata": {},
   "source": [
    "#### Draw the vectors of the offsets"
   ]
  },
  {
   "cell_type": "code",
   "execution_count": 7,
   "id": "c172aeb6-b042-4cf8-b410-02190da57aa8",
   "metadata": {},
   "outputs": [
    {
     "data": {
      "image/png": "[encoded data removed]",
      "text/plain": [
       "<Figure size 432x432 with 1 Axes>"
      ]
     },
     "metadata": {
      "needs_background": "light"
     },
     "output_type": "display_data"
    }
   ],
   "source": [
    "fig = plt.figure(figsize=(6,6))\n",
    "ax1 = plt.subplot(111)\n",
    "ax1.set_title('Star Cluster Offsets',fontsize=20)\n",
    "ax1.invert_xaxis()\n",
    "plt.axis('equal')\n",
    "for i, index in enumerate(offsets_SC.index):\n",
    "    ax1.plot([0, offsets_SC['RA offset'][index]], [0,offsets_SC['Dec offset'][index]])\n",
    "    ax1.text(offsets_SC['RA offset'][index], offsets_SC['Dec offset'][index], index, \n",
    "             fontsize=15)\n",
    "plt.xlabel('RA offsets (arcsec)', fontsize=15)\n",
    "plt.ylabel('Dec offsets (arcsec)', fontsize=15)\n",
    "    \n",
    "# Create a Rectangle patch\n",
    "import matplotlib.patches as patches\n",
    "rect = patches.Rectangle((-0.064, -0.064), 0.128, 0.128, linewidth=1.5, \n",
    "                         linestyle='--', edgecolor='black', facecolor='none')\n",
    "ax1.add_patch(rect)\n",
    "# fig.tight_layout()\n",
    "plt.savefig(picDir+'Pbeta_radio_offset_SC.pdf',bbox_inches='tight', pad_inches=0)"
   ]
  },
  {
   "cell_type": "markdown",
   "id": "22c72682-8a23-42d5-aae1-44993f3b683b",
   "metadata": {},
   "source": [
    "The offsets for all 3 types of radio images (YMC, YMC smoothed to 0.201 arcsec and GMC resolution image)"
   ]
  },
  {
   "cell_type": "code",
   "execution_count": null,
   "id": "206a2e7b-34de-4585-8043-2ecdefefe373",
   "metadata": {},
   "outputs": [],
   "source": [
    "xlim = [-0.1,0.1]; ylim = [0.1,0.1]\n",
    "fig = plt.figure(figsize=(15,5))\n",
    "\n",
    "ax = plt.subplot(131)\n",
    "ax.set_title('GMC offsets', fontsize=20)\n",
    "ax.invert_xaxis()\n",
    "plt.axis('equal')\n",
    "for i, index in enumerate(offsets_GMC.index):\n",
    "    ax.plot([0, offsets_GMC['RA offset'][i]], [0,offsets_GMC['Dec offset'][i]])\n",
    "    ax.text(offsets_GMC['RA offset'][i], offsets_GMC['Dec offset'][i], index)\n",
    "\n",
    "ax1 = plt.subplot(132)\n",
    "ax1.set_title('SC offsets',fontsize=20)\n",
    "ax1.invert_xaxis()\n",
    "plt.axis('equal')\n",
    "for i, index in enumerate(offsets_SC.index):\n",
    "    ax1.plot([0, offsets_SC['RA offset'][index]], [0,offsets_SC['Dec offset'][index]])\n",
    "    ax1.text(offsets_SC['RA offset'][index], offsets_SC['Dec offset'][index], index, \n",
    "             fontsize=15)\n",
    "    \n",
    "# Create a Rectangle patch\n",
    "import matplotlib.patches as patches\n",
    "rect = patches.Rectangle((-0.064, -0.064), 0.128, 0.128, linewidth=1.5, \n",
    "                         linestyle='--', edgecolor='black', facecolor='none')\n",
    "ax1.add_patch(rect)    \n",
    "    \n",
    "ax2 = plt.subplot(133)\n",
    "ax2.set_title('SC smoothed offsets', fontsize=20)\n",
    "ax2.invert_xaxis()\n",
    "plt.axis('equal')\n",
    "for i, index in enumerate(offsets_SC_smooth.index):\n",
    "    ax2.plot([0, offsets_SC_smooth['RA offset'][index]], [0,offsets_SC_smooth['Dec offset'][index]])\n",
    "    ax2.text(offsets_SC_smooth['RA offset'][index], offsets_SC_smooth['Dec offset'][index], index,\n",
    "            fontsize=15)\n",
    "# Create a Rectangle patch\n",
    "import matplotlib.patches as patches\n",
    "rect = patches.Rectangle((-0.064, -0.064), 0.128, 0.128, linewidth=1.5, \n",
    "                         linestyle='--', edgecolor='black', facecolor='none')\n",
    "ax2.add_patch(rect)\n",
    "\n",
    "plt.savefig(picDir+'Pbeta_radio_offset_all.pdf')"
   ]
  },
  {
   "cell_type": "markdown",
   "id": "dd310da2-f75f-42b7-83dd-904e2a08f0b8",
   "metadata": {},
   "source": [
    "## Compare the coordinates of band 3 and band 7 sources"
   ]
  },
  {
   "cell_type": "code",
   "execution_count": null,
   "id": "393ef902-3244-4784-9191-7e4cbf7fc814",
   "metadata": {},
   "outputs": [],
   "source": [
    "indexes = ['1a','1b','2','5','7','9']\n",
    "\n",
    "regionfile_band3 = regionDir + 'source_band3_2016_p5_imfit_v2.reg'\n",
    "coords_band3 = import_coords(regionfile_band3)\n",
    "\n",
    "regionfile_band7 = regionDir + 'source_band7_2016_imfit_p5_band3Ap.reg'\n",
    "coords_band7 = import_coords(regionfile_band7)\n",
    "\n",
    "# for the band 3 coordinates, remove source 3 and source 4\n",
    "coords_band3.pop(3)\n",
    "coords_band3.pop(3)\n",
    "\n",
    "ras_diff = []; decs_diff = []; seps = []\n",
    "# calculate the offsets between band 3 and band 7\n",
    "for i, coord in enumerate(coords_band3):\n",
    "    sep = coords_band7[i].separation(coord)\n",
    "    seps.append(sep.arcsec)\n",
    "    offset_frame = coords_band7[i].transform_to(coord.skyoffset_frame())\n",
    "    ras_diff.append(offset_frame.lon.arcsec)\n",
    "    decs_diff.append(offset_frame.lat.arcsec)\n",
    "\n",
    "offsets_radio = pd.DataFrame({'Seperation':seps, 'RA offset':ras_diff, 'Dec offset':decs_diff},index=indexes)\n",
    "print(offsets_radio)"
   ]
  },
  {
   "cell_type": "code",
   "execution_count": null,
   "id": "fb45ce94-d7c8-4b1f-98ea-855cda338870",
   "metadata": {},
   "outputs": [],
   "source": [
    "print(offset_frame)"
   ]
  },
  {
   "cell_type": "markdown",
   "id": "0ac81338-0a76-4ac2-9867-6e99211e852b",
   "metadata": {},
   "source": [
    "## Compare the optical coordinates with the radio coordinates"
   ]
  },
  {
   "cell_type": "code",
   "execution_count": null,
   "id": "c4ad2e75-c072-46b5-952b-5d209b3908c6",
   "metadata": {},
   "outputs": [],
   "source": [
    "print(coords_radio)"
   ]
  },
  {
   "cell_type": "code",
   "execution_count": null,
   "id": "0be999bc-0c2c-4c11-8e6e-d51c9e077a9f",
   "metadata": {},
   "outputs": [],
   "source": [
    "indexes = ['1a','2','5','6','9']\n",
    "\n",
    "regionfile = regionDir + 'source_coords_band7_2016.reg'\n",
    "coords_radio = import_coords(regionfile)\n",
    "\n",
    "regionfile_I = regionDir + 'source_HST_I_imfit.reg'\n",
    "coords_I = import_coords(regionfile_I)\n",
    "\n",
    "# remove source 1b and 7\n",
    "coords_radio.pop(1)\n",
    "coords_radio.pop(4)\n",
    "\n",
    "ras_diff = []; decs_diff = []; seps = []\n",
    "# calculate the offsets between band 3 and band 7\n",
    "for i, coord in enumerate(coords_radio):\n",
    "    sep = coords_I[i].separation(coord)\n",
    "    seps.append(sep.arcsec)\n",
    "    offset_frame = coords_I[i].transform_to(coord.skyoffset_frame())\n",
    "    ras_diff.append(offset_frame.lon.arcsec)\n",
    "    decs_diff.append(offset_frame.lat.arcsec)\n",
    "\n",
    "offsets_I = pd.DataFrame({'Seperation':seps, 'RA offset':ras_diff, 'Dec offset':decs_diff},index=indexes)\n",
    "print(offsets_I)"
   ]
  },
  {
   "cell_type": "code",
   "execution_count": null,
   "id": "0408aed7-06f7-4a68-a0ba-951c13668736",
   "metadata": {},
   "outputs": [],
   "source": [
    "fig = plt.figure(figsize=(6,6))\n",
    "ax1 = plt.subplot(111)\n",
    "ax1.set_title('Star Cluster Offsets',fontsize=20)\n",
    "ax1.invert_xaxis()\n",
    "plt.axis('equal')\n",
    "for i, index in enumerate(offsets_I.index):\n",
    "    ax1.plot([0, offsets_I['RA offset'][index]], [0,offsets_I['Dec offset'][index]])\n",
    "    ax1.text(offsets_I['RA offset'][index], offsets_I['Dec offset'][index], index, \n",
    "             fontsize=15)\n",
    "plt.xlabel('RA offsets (arcsec)', fontsize=15)\n",
    "plt.ylabel('Dec offsets (arcsec)', fontsize=15)\n",
    "    \n",
    "# Create a Rectangle patch\n",
    "import matplotlib.patches as patches\n",
    "rect = patches.Rectangle((-0.064, -0.064), 0.128, 0.128, linewidth=1.5, \n",
    "                         linestyle='--', edgecolor='black', facecolor='none')\n",
    "ax1.add_patch(rect)\n",
    "# fig.tight_layout()\n",
    "plt.savefig(picDir+'I_radio_offset_SC.pdf',bbox_inches='tight', pad_inches=0)"
   ]
  }
 ],
 "metadata": {
  "kernelspec": {
   "display_name": "Python 3",
   "language": "python",
   "name": "python3"
  },
  "language_info": {
   "codemirror_mode": {
    "name": "ipython",
    "version": 3
   },
   "file_extension": ".py",
   "mimetype": "text/x-python",
   "name": "python",
   "nbconvert_exporter": "python",
   "pygments_lexer": "ipython3",
   "version": "3.8.5"
  }
 },
 "nbformat": 4,
 "nbformat_minor": 5
}
