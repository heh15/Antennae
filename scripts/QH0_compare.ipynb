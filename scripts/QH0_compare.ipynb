{
 "cells": [
  {
   "cell_type": "markdown",
   "id": "84f0d39f-d4f2-439a-8b78-f13c290b84ec",
   "metadata": {},
   "source": [
    "Import packages"
   ]
  },
  {
   "cell_type": "code",
   "execution_count": 1,
   "id": "4cd89fbb-91e2-45e6-9a90-4ba50f9bcc0f",
   "metadata": {},
   "outputs": [],
   "source": [
    "from astropy import units as u\n",
    "import matplotlib.pyplot as plt\n",
    "from astropy.io import fits\n",
    "from astropy.wcs import WCS\n",
    "from astropy.coordinates import SkyCoord\n",
    "from astropy.nddata import Cutout2D\n",
    "import numpy as np\n",
    "from reproject import reproject_interp\n",
    "from reproject import reproject_exact\n",
    "from regions import read_ds9\n",
    "import copy\n",
    "from photutils import SkyCircularAperture\n",
    "import time\n",
    "import pandas as pd"
   ]
  },
  {
   "cell_type": "markdown",
   "id": "97f74acd-21ed-4fff-8cea-67b4f3777cea",
   "metadata": {},
   "source": [
    "Directories"
   ]
  },
  {
   "cell_type": "code",
   "execution_count": 6,
   "id": "bc9cc2f5-409a-49de-96af-22b2755aa22f",
   "metadata": {},
   "outputs": [],
   "source": [
    "Dir = '/home/heh15/research/Antennae/'\n",
    "picDir = Dir+'pictures/'\n",
    "regionDir = Dir+'regions/'\n",
    "HST_Dir = Dir+'HST/'\n",
    "MUSE_Dir = Dir+'MUSE/'\n",
    "imageDir = Dir+'images/'"
   ]
  },
  {
   "cell_type": "markdown",
   "id": "41bb2e9d-8c79-4fea-9ecc-b25ff18799d8",
   "metadata": {},
   "source": [
    "#### Basic information for the P-beta image"
   ]
  },
  {
   "cell_type": "code",
   "execution_count": 7,
   "id": "19c59123-08f7-4235-8afb-71397ba6343f",
   "metadata": {},
   "outputs": [],
   "source": [
    "photflam = 4.3479999e-19"
   ]
  },
  {
   "cell_type": "markdown",
   "id": "8a08ec4c-0389-453c-9b1f-228496aad234",
   "metadata": {
    "tags": []
   },
   "source": [
    "#### Compare the number of ionized photons derived from H-alpha and P-beta"
   ]
  },
  {
   "cell_type": "markdown",
   "id": "87ecfaa3-4e8c-4cf7-a9de-a9fe01149f90",
   "metadata": {},
   "source": [
    "The equation to calculate the total ionized photon from Halpha (Murphy+2011, eq. 1, 2)\n",
    "\\begin{equation}\n",
    "Q(H) = 7.4 \\times 10^{11} L_{H\\alpha}\n",
    "\\end{equation}\n",
    "To convert the Pbeta luminosity to the Halpha luminosity, we use the equation (Cleri+2021, Section 4.2)\n",
    "\\begin{equation}\n",
    "L_{H\\alpha} = 17.6 L_{P\\beta}\n",
    "\\end{equation}\n",
    "Note $L_{P\\beta}$ in this case is the intrinsic luminosity of the Paschen beta line with extinction correction. To get this value, we need to calculate the extinction of the Paschen beta from the $A_V$. According to Draine+2003 (Section 2.1.3), $A_{\\lambda} \\sim \\lambda^{-\\beta}$. Therefore, the excition for Paschen beta is\n",
    "\\begin{equation}\n",
    "A_{P\\beta} = (1280/600)^{-1.7} \\times A_V\n",
    "\\end{equation}\n",
    "A more accurate way to calculate $A_{P\\beta}$ from $A_V$ is based on Eq. 4 in Calzetti+2020. We have \n",
    "\\begin{eqnarray}\n",
    "A_V = E_s(B-V) \\times (2.659(-2.156+1.509/\\lambda_V-0.198/\\lambda_V^2+0.011/\\lambda_V^3)+R'_V)\\ (\\lambda_V=0.55 \\mu m) \\\\\n",
    "A_{P\\beta} = E_S(B-V) \\times (2.659(-1.857+1.040/\\lambda_{P\\beta})+R'_V)\\ (\\lambda_{P\\beta}=1.28\\ \\mu m)\n",
    "\\end{eqnarray}\n",
    "where $R'_V=4.88$. \n",
    "\n",
    "Then the actual luminosity of the Paschen beta can be calculated as\n",
    "\\begin{equation}\n",
    "L_{P\\beta} = L_{P\\beta,meas} \\times 10^{0.4 A_{P\\beta}}\n",
    "\\end{equation}"
   ]
  },
  {
   "cell_type": "code",
   "execution_count": 17,
   "id": "c7380156-be4e-4108-9ca3-dbf836dffb52",
   "metadata": {},
   "outputs": [
    {
     "name": "stdout",
     "output_type": "stream",
     "text": [
      "[1.91856397e-14 4.09660586e-14 8.41337480e-15 2.43751980e-15\n",
      " 1.61190826e-15 3.58551300e-15]\n",
      "[1.74190165 0.71584999 0.23861666 1.19308332 0.97832832 1.00218999]\n",
      "[3.14675457 1.29318681 0.43106227 2.15531135 1.76735531 1.81046153]\n",
      "[0.05000338 0.06556035 0.0448533  0.04209838 0.0479896  0.06996975]\n",
      "[6.62095899e+52 2.56413975e+52 2.38033416e+51 3.37532408e+51\n",
      " 1.56143974e+51 3.61392137e+51]\n",
      "[3.04195826e+52 1.89575539e+52 5.89142444e+51 1.08641367e+51\n",
      " 8.89546759e+51 5.17687048e+51]\n"
     ]
    },
    {
     "data": {
      "image/png": "[encoded data removed]",
      "text/plain": [
       "<Figure size 432x432 with 1 Axes>"
      ]
     },
     "metadata": {
      "needs_background": "light"
     },
     "output_type": "display_data"
    }
   ],
   "source": [
    "# flux with image smoothed to the 0.201 arcsec in mJy\n",
    "flux_100GHz = np.array([2.086, 0.988, 1.3, 0.846, 0.39, 0.404, 0.0745, 0.61, 0.355])\n",
    "flux_100GHz_SC = flux_100GHz[[0,2,5,6,7,8]]\n",
    "# flux of Paschen beta image in electron/s\n",
    "# 0.868 is the encircled energy\n",
    "# 156.97 A is the equivalent width of Pbeta filter\n",
    "flux_Pbeta = np.array([336, 760, 677, 1356, 220, 73, 44, 74])*photflam/0.868*156.97\n",
    "# flux_Pbeta_contsub = np.array([237,459,150,133,120,37.9,26.1,49.2])*photflam/0.868*156.97\n",
    "flux_Pbeta_SC = flux_Pbeta[[0,1,4,5,6,7]]\n",
    "# continuum subtracted fluxes\n",
    "flux_Pbeta_SC = np.array([244,521,107,31,20.5,45.6])*photflam/0.868*156.97\n",
    "print(flux_Pbeta_SC)\n",
    "\n",
    "Av_SC = np.array([7.3, 3.0, 1.0, 5.0, 4.1, 4.2])\n",
    "age_SC = np.array([1.0,2.5,1.0,8,3.5,1.0]) # in Myr\n",
    "APbeta_SC = Av_SC * (1.28/0.551)**(-1.7)\n",
    "print(APbeta_SC)\n",
    "\n",
    "# modified equation to calculate APbeta_SC\n",
    "kv = 2.659*(-2.156+1.509/0.55-0.198/0.55**2+0.011/0.55**3)+4.88\n",
    "kPbeta = 2.659*(-1.857+1.040/1.28)+4.88\n",
    "APbeta_SC = Av_SC * kPbeta / kv\n",
    "print(APbeta_SC)\n",
    "\n",
    "# Calculate the uncertainties for the radio fluxes\n",
    "rms = 0.02; pixperbeam = 1.1331*0.21**2/0.015**2\n",
    "pbValue = np.array([0.85,0.9,1,1,0.95,0.75])\n",
    "pixNum = np.array([1003, 1933, 1117, 984, 1154, 1529])\n",
    "flux_100GHz_err = rms / pbValue * np.sqrt(pixNum/pixperbeam)\n",
    "print(flux_100GHz_err)\n",
    "rel_err = flux_100GHz_err / flux_100GHz_SC\n",
    "\n",
    "# set the source 6 to be upper limits\n",
    "yuplims = np.full(np.shape(flux_100GHz_SC), fill_value=False)\n",
    "yuplims[3] = True\n",
    "\n",
    "LPbeta_SC = flux_Pbeta_SC * 10**(0.4*APbeta_SC) * (3.14*(22*3.1e24)**2)\n",
    "LHalpha_SC = LPbeta_SC * 17.6 \n",
    "Q_Halpha_SC = LHalpha_SC * 7.4e11\n",
    "print(Q_Halpha_SC)\n",
    "\n",
    "L_100GHz_SC = flux_100GHz_SC * 1e-26 * (3.14*(22*3.1e24)**2)\n",
    "Q_radio_SC = 6.3e25 * 100**0.1 * L_100GHz_SC\n",
    "print(Q_radio_SC)\n",
    "\n",
    "region_labels = ['1a','2','5','6','7','9']\n",
    "\n",
    "fig = plt.figure(figsize=(6,6))\n",
    "\n",
    "ax = plt.subplot(111)\n",
    "plt.xscale('log')\n",
    "plt.yscale('log')\n",
    "ax.errorbar(Q_Halpha_SC, Q_radio_SC, yerr=Q_radio_SC*rel_err, uplims=yuplims, \n",
    "            linestyle='', marker='o', color='tab:orange')\n",
    "\n",
    "for i, region_label in enumerate(region_labels):\n",
    "    ax.text(Q_Halpha_SC[i], Q_radio_SC[i], region_label,fontsize=20)\n",
    "    \n",
    "ax.set_ylim(top=1.2e53)\n",
    "\n",
    "lower=max(ax.set_xlim()[0], ax.set_ylim()[0])\n",
    "upper=min(ax.set_xlim()[1], ax.set_ylim()[1])\n",
    "ax.plot([lower, upper],[lower,upper],ls='--', color='black')\n",
    "\n",
    "plt.xlabel(r'$Q_{\\mathrm{Pa\\beta}}(H^0)$ (s$^{-1}$)', fontsize=30)\n",
    "plt.ylabel(r'$Q_{\\mathrm{radio}}(H^0)$ (s$^{-1}$)', fontsize=30)\n",
    "ax.tick_params(labelsize = 20)\n",
    "# fig.tight_layout()\n",
    "plt.savefig(picDir+'Q_Pbeta_100GHz_contsub.pdf',bbox_inches='tight',pad_inches=0)"
   ]
  },
  {
   "cell_type": "markdown",
   "id": "6164f791-9fb9-4835-a0c3-60bedfcf9798",
   "metadata": {},
   "source": [
    "#### Optical star clusters from the literature"
   ]
  },
  {
   "cell_type": "code",
   "execution_count": 10,
   "id": "3d51bb11-aff7-4422-9f84-92c1a919aef1",
   "metadata": {},
   "outputs": [
    {
     "name": "stdout",
     "output_type": "stream",
     "text": [
      "[9.10058508e+52 3.73350317e+52 4.88512631e+51 7.93369697e+51\n",
      " 3.34520708e+51 5.85388979e+51]\n",
      "0.431062269982531\n"
     ]
    }
   ],
   "source": [
    "Q_test = 1.3e13 * LPbeta_SC\n",
    "print(Q_test)\n",
    "\n",
    "print(kPbeta/kv)"
   ]
  }
 ],
 "metadata": {
  "kernelspec": {
   "display_name": "Python 3",
   "language": "python",
   "name": "python3"
  },
  "language_info": {
   "codemirror_mode": {
    "name": "ipython",
    "version": 3
   },
   "file_extension": ".py",
   "mimetype": "text/x-python",
   "name": "python",
   "nbconvert_exporter": "python",
   "pygments_lexer": "ipython3",
   "version": "3.8.5"
  }
 },
 "nbformat": 4,
 "nbformat_minor": 5
}
